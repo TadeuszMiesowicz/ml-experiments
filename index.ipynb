{
 "cells": [
  {
   "attachments": {},
   "cell_type": "markdown",
   "metadata": {},
   "source": [
    "## binary classification algorithms comparison\n",
    "\n",
    "A *test of performance* of ML algorithms for *binary* classification.\n",
    "The code associated with the training of each algorithm can be accessed in the algorithms folder.\n",
    "\n",
    "Algorithm are trained on Census Income Data Set\n",
    "\n",
    "[data set](https://archive-beta.ics.uci.edu/dataset/2/adult)\n",
    "\n",
    "#### Data set description:\n",
    "\n",
    "Predict whether income exceeds $50K/yr based on census data. Also known as \"Census Income\" dataset.\n",
    "\n",
    "\n",
    "My test results are similar to Baseline Model Performance:\n",
    "[data set](https://archive-beta.ics.uci.edu/dataset/2/adult)\n",
    "\n",
    "*xgboost* also has the best accuracy in my tests\n",
    "\n",
    "\n",
    "#### SQL database & static site generation\n",
    "\n",
    "Each time changes are added to the main branch of this repository, github action: \n",
    "- rebuilds a small postgres SQL database containing the test results.\n",
    "- webpage `miesowicz.com` rebuilds using data from DB - www is using [SvelteKit](https://kit.svelte.dev/) with static site generation\n",
    "\n",
    "\n",
    "#### www with comparison results\n",
    "\n",
    "Charts and a summary of the tests also can be found on\n",
    "[miesowicz.com/binary-test](https://miesowicz.com/binary-test)\n",
    "\n"
   ]
  },
  {
   "attachments": {},
   "cell_type": "markdown",
   "metadata": {},
   "source": [
    "### Data preprocessing preview\n",
    "\n",
    "[Data preprocessing details](./data_preview.ipynb)\n"
   ]
  },
  {
   "attachments": {},
   "cell_type": "markdown",
   "metadata": {},
   "source": [
    "### Algorithms comparison"
   ]
  },
  {
   "cell_type": "code",
   "execution_count": 1,
   "metadata": {},
   "outputs": [
    {
     "data": {
      "text/html": [
       "<div>\n",
       "<style scoped>\n",
       "    .dataframe tbody tr th:only-of-type {\n",
       "        vertical-align: middle;\n",
       "    }\n",
       "\n",
       "    .dataframe tbody tr th {\n",
       "        vertical-align: top;\n",
       "    }\n",
       "\n",
       "    .dataframe thead th {\n",
       "        text-align: right;\n",
       "    }\n",
       "</style>\n",
       "<table border=\"1\" class=\"dataframe\">\n",
       "  <thead>\n",
       "    <tr style=\"text-align: right;\">\n",
       "      <th></th>\n",
       "      <th>algorithm_name</th>\n",
       "      <th>best_accuracy</th>\n",
       "      <th>precision</th>\n",
       "      <th>recall</th>\n",
       "      <th>roc_auc_score</th>\n",
       "      <th>true_positives</th>\n",
       "      <th>false_positives</th>\n",
       "      <th>false_negatives</th>\n",
       "      <th>true_negatives</th>\n",
       "    </tr>\n",
       "  </thead>\n",
       "  <tbody>\n",
       "    <tr>\n",
       "      <th>4</th>\n",
       "      <td>xgboost</td>\n",
       "      <td>0.871533</td>\n",
       "      <td>0.769039</td>\n",
       "      <td>0.649789</td>\n",
       "      <td>0.795266</td>\n",
       "      <td>5874</td>\n",
       "      <td>370</td>\n",
       "      <td>664</td>\n",
       "      <td>1232</td>\n",
       "    </tr>\n",
       "    <tr>\n",
       "      <th>2</th>\n",
       "      <td>support_vector_machines</td>\n",
       "      <td>0.856362</td>\n",
       "      <td>0.748638</td>\n",
       "      <td>0.579641</td>\n",
       "      <td>0.760272</td>\n",
       "      <td>5875</td>\n",
       "      <td>369</td>\n",
       "      <td>797</td>\n",
       "      <td>1099</td>\n",
       "    </tr>\n",
       "    <tr>\n",
       "      <th>1</th>\n",
       "      <td>logistic_regression</td>\n",
       "      <td>0.852492</td>\n",
       "      <td>0.728331</td>\n",
       "      <td>0.593882</td>\n",
       "      <td>0.763309</td>\n",
       "      <td>5824</td>\n",
       "      <td>420</td>\n",
       "      <td>770</td>\n",
       "      <td>1126</td>\n",
       "    </tr>\n",
       "    <tr>\n",
       "      <th>5</th>\n",
       "      <td>deep_neural_network</td>\n",
       "      <td>0.851720</td>\n",
       "      <td>0.686519</td>\n",
       "      <td>0.668776</td>\n",
       "      <td>0.788024</td>\n",
       "      <td>5665</td>\n",
       "      <td>579</td>\n",
       "      <td>628</td>\n",
       "      <td>1268</td>\n",
       "    </tr>\n",
       "    <tr>\n",
       "      <th>0</th>\n",
       "      <td>knn</td>\n",
       "      <td>0.842142</td>\n",
       "      <td>0.708497</td>\n",
       "      <td>0.571730</td>\n",
       "      <td>0.750151</td>\n",
       "      <td>5798</td>\n",
       "      <td>446</td>\n",
       "      <td>812</td>\n",
       "      <td>1084</td>\n",
       "    </tr>\n",
       "    <tr>\n",
       "      <th>3</th>\n",
       "      <td>decision_tree</td>\n",
       "      <td>0.819354</td>\n",
       "      <td>0.707386</td>\n",
       "      <td>0.393987</td>\n",
       "      <td>0.672250</td>\n",
       "      <td>5935</td>\n",
       "      <td>309</td>\n",
       "      <td>1149</td>\n",
       "      <td>747</td>\n",
       "    </tr>\n",
       "  </tbody>\n",
       "</table>\n",
       "</div>"
      ],
      "text/plain": [
       "            algorithm_name  best_accuracy  precision    recall  roc_auc_score  \\\n",
       "4                  xgboost       0.871533   0.769039  0.649789       0.795266   \n",
       "2  support_vector_machines       0.856362   0.748638  0.579641       0.760272   \n",
       "1      logistic_regression       0.852492   0.728331  0.593882       0.763309   \n",
       "5      deep_neural_network       0.851720   0.686519  0.668776       0.788024   \n",
       "0                      knn       0.842142   0.708497  0.571730       0.750151   \n",
       "3            decision_tree       0.819354   0.707386  0.393987       0.672250   \n",
       "\n",
       "   true_positives  false_positives  false_negatives  true_negatives  \n",
       "4            5874              370              664            1232  \n",
       "2            5875              369              797            1099  \n",
       "1            5824              420              770            1126  \n",
       "5            5665              579              628            1268  \n",
       "0            5798              446              812            1084  \n",
       "3            5935              309             1149             747  "
      ]
     },
     "execution_count": 1,
     "metadata": {},
     "output_type": "execute_result"
    }
   ],
   "source": [
    "import pandas as pd\n",
    "from utils import plot_cm_metrics, plot_accuracy\n",
    "metrics_df = pd.read_csv('./results/income_algorithms.csv')\n",
    "results = metrics_df.iloc[:, 1:].sort_values('best_accuracy', ascending=False)\n",
    "results"
   ]
  },
  {
   "cell_type": "code",
   "execution_count": 2,
   "metadata": {},
   "outputs": [
    {
     "data": {
      "image/png": "[encoded data removed]",
      "text/plain": [
       "<Figure size 432x288 with 1 Axes>"
      ]
     },
     "metadata": {
      "needs_background": "light"
     },
     "output_type": "display_data"
    }
   ],
   "source": [
    "plot_accuracy()"
   ]
  },
  {
   "attachments": {},
   "cell_type": "markdown",
   "metadata": {},
   "source": [
    "### Algorithms\n",
    "\n",
    "#### 1 KNN\n",
    "[KNN training](./algorithms\\1_knn_income.ipynb)\n",
    "\n",
    "best hyperparameters & confusion matrix\n"
   ]
  },
  {
   "cell_type": "code",
   "execution_count": 3,
   "metadata": {},
   "outputs": [
    {
     "name": "stderr",
     "output_type": "stream",
     "text": [
      "c:\\Users\\Tadeusz\\Dev\\ml-experiments\\utils.py:39: FutureWarning: this method is deprecated in favour of `Styler.hide(axis='columns')`\n",
      "  best_params.style.hide_columns()\n"
     ]
    },
    {
     "data": {
      "text/html": [
       "<div>\n",
       "<style scoped>\n",
       "    .dataframe tbody tr th:only-of-type {\n",
       "        vertical-align: middle;\n",
       "    }\n",
       "\n",
       "    .dataframe tbody tr th {\n",
       "        vertical-align: top;\n",
       "    }\n",
       "\n",
       "    .dataframe thead th {\n",
       "        text-align: right;\n",
       "    }\n",
       "</style>\n",
       "<table border=\"1\" class=\"dataframe\">\n",
       "  <thead>\n",
       "    <tr style=\"text-align: right;\">\n",
       "      <th></th>\n",
       "      <th>0</th>\n",
       "    </tr>\n",
       "  </thead>\n",
       "  <tbody>\n",
       "    <tr>\n",
       "      <th>hyperparameter_name</th>\n",
       "      <td>n_neighbors</td>\n",
       "    </tr>\n",
       "    <tr>\n",
       "      <th>best_value</th>\n",
       "      <td>18</td>\n",
       "    </tr>\n",
       "  </tbody>\n",
       "</table>\n",
       "</div>"
      ],
      "text/plain": [
       "                               0\n",
       "hyperparameter_name  n_neighbors\n",
       "best_value                    18"
      ]
     },
     "execution_count": 3,
     "metadata": {},
     "output_type": "execute_result"
    },
    {
     "data": {
      "image/png": "[encoded data removed]",
      "text/plain": [
       "<Figure size 576x432 with 2 Axes>"
      ]
     },
     "metadata": {},
     "output_type": "display_data"
    }
   ],
   "source": [
    "plot_cm_metrics(1)"
   ]
  },
  {
   "attachments": {},
   "cell_type": "markdown",
   "metadata": {},
   "source": [
    "#### 2. Logistic Regression\n",
    "[Logistic Regression training](./algorithms/2_log_reg.ipynb)\n",
    "\n",
    "best hyperparameters & confusion matrix"
   ]
  },
  {
   "cell_type": "code",
   "execution_count": 4,
   "metadata": {},
   "outputs": [
    {
     "name": "stderr",
     "output_type": "stream",
     "text": [
      "c:\\Users\\Tadeusz\\Dev\\ml-experiments\\utils.py:39: FutureWarning: this method is deprecated in favour of `Styler.hide(axis='columns')`\n",
      "  best_params.style.hide_columns()\n"
     ]
    },
    {
     "data": {
      "text/html": [
       "<div>\n",
       "<style scoped>\n",
       "    .dataframe tbody tr th:only-of-type {\n",
       "        vertical-align: middle;\n",
       "    }\n",
       "\n",
       "    .dataframe tbody tr th {\n",
       "        vertical-align: top;\n",
       "    }\n",
       "\n",
       "    .dataframe thead th {\n",
       "        text-align: right;\n",
       "    }\n",
       "</style>\n",
       "<table border=\"1\" class=\"dataframe\">\n",
       "  <thead>\n",
       "    <tr style=\"text-align: right;\">\n",
       "      <th></th>\n",
       "      <th>1</th>\n",
       "      <th>2</th>\n",
       "    </tr>\n",
       "  </thead>\n",
       "  <tbody>\n",
       "    <tr>\n",
       "      <th>hyperparameter_name</th>\n",
       "      <td>C</td>\n",
       "      <td>solver</td>\n",
       "    </tr>\n",
       "    <tr>\n",
       "      <th>best_value</th>\n",
       "      <td>10</td>\n",
       "      <td>lbfgs</td>\n",
       "    </tr>\n",
       "  </tbody>\n",
       "</table>\n",
       "</div>"
      ],
      "text/plain": [
       "                      1       2\n",
       "hyperparameter_name   C  solver\n",
       "best_value           10   lbfgs"
      ]
     },
     "execution_count": 4,
     "metadata": {},
     "output_type": "execute_result"
    },
    {
     "data": {
      "image/png": "[encoded data removed]",
      "text/plain": [
       "<Figure size 576x432 with 2 Axes>"
      ]
     },
     "metadata": {},
     "output_type": "display_data"
    }
   ],
   "source": [
    "plot_cm_metrics(2)"
   ]
  },
  {
   "attachments": {},
   "cell_type": "markdown",
   "metadata": {},
   "source": [
    "#### 3. Support Vector Machines training\n",
    "[Support Vector Machines training](./algorithms/3_svm.ipynb)\n",
    "\n",
    "best hyperparameters & confusion matrix"
   ]
  },
  {
   "cell_type": "code",
   "execution_count": 5,
   "metadata": {},
   "outputs": [
    {
     "name": "stderr",
     "output_type": "stream",
     "text": [
      "c:\\Users\\Tadeusz\\Dev\\ml-experiments\\utils.py:39: FutureWarning: this method is deprecated in favour of `Styler.hide(axis='columns')`\n",
      "  best_params.style.hide_columns()\n"
     ]
    },
    {
     "data": {
      "text/html": [
       "<div>\n",
       "<style scoped>\n",
       "    .dataframe tbody tr th:only-of-type {\n",
       "        vertical-align: middle;\n",
       "    }\n",
       "\n",
       "    .dataframe tbody tr th {\n",
       "        vertical-align: top;\n",
       "    }\n",
       "\n",
       "    .dataframe thead th {\n",
       "        text-align: right;\n",
       "    }\n",
       "</style>\n",
       "<table border=\"1\" class=\"dataframe\">\n",
       "  <thead>\n",
       "    <tr style=\"text-align: right;\">\n",
       "      <th></th>\n",
       "      <th>3</th>\n",
       "      <th>4</th>\n",
       "    </tr>\n",
       "  </thead>\n",
       "  <tbody>\n",
       "    <tr>\n",
       "      <th>hyperparameter_name</th>\n",
       "      <td>C</td>\n",
       "      <td>gamma</td>\n",
       "    </tr>\n",
       "    <tr>\n",
       "      <th>best_value</th>\n",
       "      <td>1</td>\n",
       "      <td>scale</td>\n",
       "    </tr>\n",
       "  </tbody>\n",
       "</table>\n",
       "</div>"
      ],
      "text/plain": [
       "                     3      4\n",
       "hyperparameter_name  C  gamma\n",
       "best_value           1  scale"
      ]
     },
     "execution_count": 5,
     "metadata": {},
     "output_type": "execute_result"
    },
    {
     "data": {
      "image/png": "[encoded data removed]",
      "text/plain": [
       "<Figure size 576x432 with 2 Axes>"
      ]
     },
     "metadata": {},
     "output_type": "display_data"
    }
   ],
   "source": [
    "plot_cm_metrics(3)"
   ]
  },
  {
   "attachments": {},
   "cell_type": "markdown",
   "metadata": {},
   "source": [
    "#### 4. Decision Tree\n",
    "[Decision Tree](./algorithms/4_decision_tree.ipynb)\n",
    "\n",
    "best hyperparameters & confusion matrix"
   ]
  },
  {
   "cell_type": "code",
   "execution_count": 6,
   "metadata": {},
   "outputs": [
    {
     "name": "stderr",
     "output_type": "stream",
     "text": [
      "c:\\Users\\Tadeusz\\Dev\\ml-experiments\\utils.py:39: FutureWarning: this method is deprecated in favour of `Styler.hide(axis='columns')`\n",
      "  best_params.style.hide_columns()\n"
     ]
    },
    {
     "data": {
      "text/html": [
       "<div>\n",
       "<style scoped>\n",
       "    .dataframe tbody tr th:only-of-type {\n",
       "        vertical-align: middle;\n",
       "    }\n",
       "\n",
       "    .dataframe tbody tr th {\n",
       "        vertical-align: top;\n",
       "    }\n",
       "\n",
       "    .dataframe thead th {\n",
       "        text-align: right;\n",
       "    }\n",
       "</style>\n",
       "<table border=\"1\" class=\"dataframe\">\n",
       "  <thead>\n",
       "    <tr style=\"text-align: right;\">\n",
       "      <th></th>\n",
       "      <th>5</th>\n",
       "      <th>6</th>\n",
       "      <th>7</th>\n",
       "      <th>8</th>\n",
       "    </tr>\n",
       "  </thead>\n",
       "  <tbody>\n",
       "    <tr>\n",
       "      <th>hyperparameter_name</th>\n",
       "      <td>min_samples_leaf</td>\n",
       "      <td>min_samples_split</td>\n",
       "      <td>criterion</td>\n",
       "      <td>max_depth</td>\n",
       "    </tr>\n",
       "    <tr>\n",
       "      <th>best_value</th>\n",
       "      <td>0.1</td>\n",
       "      <td>0.1</td>\n",
       "      <td>gini</td>\n",
       "      <td>2</td>\n",
       "    </tr>\n",
       "  </tbody>\n",
       "</table>\n",
       "</div>"
      ],
      "text/plain": [
       "                                    5                  6          7          8\n",
       "hyperparameter_name  min_samples_leaf  min_samples_split  criterion  max_depth\n",
       "best_value                        0.1                0.1       gini          2"
      ]
     },
     "execution_count": 6,
     "metadata": {},
     "output_type": "execute_result"
    },
    {
     "data": {
      "image/png": "[encoded data removed]",
      "text/plain": [
       "<Figure size 576x432 with 2 Axes>"
      ]
     },
     "metadata": {},
     "output_type": "display_data"
    }
   ],
   "source": [
    "plot_cm_metrics(4)"
   ]
  },
  {
   "attachments": {},
   "cell_type": "markdown",
   "metadata": {},
   "source": [
    "#### 5. XGBoost\n",
    "[XGBoost](./algorithms/5_xg_boost.ipynb)\n",
    "\n",
    "best hyperparameters & confusion matrix"
   ]
  },
  {
   "cell_type": "code",
   "execution_count": 7,
   "metadata": {},
   "outputs": [
    {
     "name": "stderr",
     "output_type": "stream",
     "text": [
      "c:\\Users\\Tadeusz\\Dev\\ml-experiments\\utils.py:39: FutureWarning: this method is deprecated in favour of `Styler.hide(axis='columns')`\n",
      "  best_params.style.hide_columns()\n"
     ]
    },
    {
     "data": {
      "text/html": [
       "<div>\n",
       "<style scoped>\n",
       "    .dataframe tbody tr th:only-of-type {\n",
       "        vertical-align: middle;\n",
       "    }\n",
       "\n",
       "    .dataframe tbody tr th {\n",
       "        vertical-align: top;\n",
       "    }\n",
       "\n",
       "    .dataframe thead th {\n",
       "        text-align: right;\n",
       "    }\n",
       "</style>\n",
       "<table border=\"1\" class=\"dataframe\">\n",
       "  <thead>\n",
       "    <tr style=\"text-align: right;\">\n",
       "      <th></th>\n",
       "      <th>9</th>\n",
       "      <th>10</th>\n",
       "      <th>11</th>\n",
       "    </tr>\n",
       "  </thead>\n",
       "  <tbody>\n",
       "    <tr>\n",
       "      <th>hyperparameter_name</th>\n",
       "      <td>max_depth</td>\n",
       "      <td>learning_rate</td>\n",
       "      <td>subsample</td>\n",
       "    </tr>\n",
       "    <tr>\n",
       "      <th>best_value</th>\n",
       "      <td>8</td>\n",
       "      <td>0.1</td>\n",
       "      <td>0.9</td>\n",
       "    </tr>\n",
       "  </tbody>\n",
       "</table>\n",
       "</div>"
      ],
      "text/plain": [
       "                            9              10         11\n",
       "hyperparameter_name  max_depth  learning_rate  subsample\n",
       "best_value                   8            0.1        0.9"
      ]
     },
     "execution_count": 7,
     "metadata": {},
     "output_type": "execute_result"
    },
    {
     "data": {
      "image/png": "[encoded data removed]",
      "text/plain": [
       "<Figure size 576x432 with 2 Axes>"
      ]
     },
     "metadata": {},
     "output_type": "display_data"
    }
   ],
   "source": [
    "plot_cm_metrics(5)"
   ]
  },
  {
   "attachments": {},
   "cell_type": "markdown",
   "metadata": {},
   "source": [
    "#### 6. Deep Neural Network\n",
    "[Deep Neural Network](./algorithms/6_dnn.ipynb)\n",
    "\n",
    "best hyperparameters & confusion matrix"
   ]
  },
  {
   "cell_type": "code",
   "execution_count": 8,
   "metadata": {},
   "outputs": [
    {
     "name": "stderr",
     "output_type": "stream",
     "text": [
      "c:\\Users\\Tadeusz\\Dev\\ml-experiments\\utils.py:39: FutureWarning: this method is deprecated in favour of `Styler.hide(axis='columns')`\n",
      "  best_params.style.hide_columns()\n"
     ]
    },
    {
     "data": {
      "text/html": [
       "<div>\n",
       "<style scoped>\n",
       "    .dataframe tbody tr th:only-of-type {\n",
       "        vertical-align: middle;\n",
       "    }\n",
       "\n",
       "    .dataframe tbody tr th {\n",
       "        vertical-align: top;\n",
       "    }\n",
       "\n",
       "    .dataframe thead th {\n",
       "        text-align: right;\n",
       "    }\n",
       "</style>\n",
       "<table border=\"1\" class=\"dataframe\">\n",
       "  <thead>\n",
       "    <tr style=\"text-align: right;\">\n",
       "      <th></th>\n",
       "      <th>12</th>\n",
       "      <th>13</th>\n",
       "    </tr>\n",
       "  </thead>\n",
       "  <tbody>\n",
       "    <tr>\n",
       "      <th>hyperparameter_name</th>\n",
       "      <td>learning_rate</td>\n",
       "      <td>epochs</td>\n",
       "    </tr>\n",
       "    <tr>\n",
       "      <th>best_value</th>\n",
       "      <td>0.001</td>\n",
       "      <td>10.0</td>\n",
       "    </tr>\n",
       "  </tbody>\n",
       "</table>\n",
       "</div>"
      ],
      "text/plain": [
       "                                12      13\n",
       "hyperparameter_name  learning_rate  epochs\n",
       "best_value                   0.001    10.0"
      ]
     },
     "execution_count": 8,
     "metadata": {},
     "output_type": "execute_result"
    },
    {
     "data": {
      "image/png": "[encoded data removed]",
      "text/plain": [
       "<Figure size 576x432 with 2 Axes>"
      ]
     },
     "metadata": {},
     "output_type": "display_data"
    }
   ],
   "source": [
    "plot_cm_metrics(6)"
   ]
  }
 ],
 "metadata": {
  "kernelspec": {
   "display_name": "Python 3.9 (tensorflow)",
   "language": "python",
   "name": "tensorflow"
  },
  "language_info": {
   "codemirror_mode": {
    "name": "ipython",
    "version": 3
   },
   "file_extension": ".py",
   "mimetype": "text/x-python",
   "name": "python",
   "nbconvert_exporter": "python",
   "pygments_lexer": "ipython3",
   "version": "3.9.12"
  },
  "orig_nbformat": 4,
  "vscode": {
   "interpreter": {
    "hash": "9995a86131751083f514308a843745653e0713a28edb6474f510e1117d5380e9"
   }
  }
 },
 "nbformat": 4,
 "nbformat_minor": 2
}
