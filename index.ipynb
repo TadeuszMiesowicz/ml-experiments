{
 "cells": [
  {
   "attachments": {},
   "cell_type": "markdown",
   "metadata": {},
   "source": [
    "## Census Income\n",
    "\n",
    "Predict whether income exceeds $50K/yr based on census data. Also known as \"Adult\" dataset.\n",
    "\n",
    "[data set](https://archive.ics.uci.edu/ml/datasets/Census+Income)"
   ]
  },
  {
   "attachments": {},
   "cell_type": "markdown",
   "metadata": {},
   "source": [
    "### Data preprocessing preview\n",
    "\n",
    "[Data preprocessing details](./data_preview.ipynb)\n"
   ]
  },
  {
   "attachments": {},
   "cell_type": "markdown",
   "metadata": {},
   "source": [
    "### Algorithms comparison"
   ]
  },
  {
   "cell_type": "code",
   "execution_count": 1,
   "metadata": {},
   "outputs": [],
   "source": [
    "import pandas as pd\n",
    "import matplotlib.pyplot as plt\n",
    "\n",
    "cv_accuracy_df = pd.read_csv('./results/income_cv_scores.csv')\n",
    "metrics_df = pd.read_csv('./results/income_algorithms.csv')\n",
    "algorithm_names = metrics_df[\"algorithm_name\"].to_list()\n",
    "\n"
   ]
  },
  {
   "cell_type": "code",
   "execution_count": 2,
   "metadata": {},
   "outputs": [],
   "source": [
    "import seaborn as sns\n",
    "import mplcyberpunk\n",
    "import matplotlib.pyplot as plt\n",
    "plt.style.use(\"cyberpunk\")"
   ]
  },
  {
   "cell_type": "code",
   "execution_count": 3,
   "metadata": {},
   "outputs": [
    {
     "data": {
      "image/png": "[encoded data removed]",
      "text/plain": [
       "<Figure size 432x288 with 1 Axes>"
      ]
     },
     "metadata": {
      "needs_background": "dark"
     },
     "output_type": "display_data"
    }
   ],
   "source": [
    "sns.boxplot(y=cv_accuracy_df[\"accuracy_score\"], x=cv_accuracy_df[\"algorithm_id\"].apply(lambda id: algorithm_names[id-1]))\n",
    "\n",
    "plt.show()\n"
   ]
  },
  {
   "attachments": {},
   "cell_type": "markdown",
   "metadata": {},
   "source": [
    "### Algorithms\n",
    "\n",
    "#### 1 KNN\n",
    "[KNN training](./algoritms/1_knn_income.ipynb)\n",
    "\n",
    "#### 2. Logistic Regression & SVM\n",
    "[Logistic Regression & SVM training](./algoritms/2_Lr_svm_income.ipynb)"
   ]
  }
 ],
 "metadata": {
  "kernelspec": {
   "display_name": "tensorflow",
   "language": "python",
   "name": "python3"
  },
  "language_info": {
   "codemirror_mode": {
    "name": "ipython",
    "version": 3
   },
   "file_extension": ".py",
   "mimetype": "text/x-python",
   "name": "python",
   "nbconvert_exporter": "python",
   "pygments_lexer": "ipython3",
   "version": "3.9.12"
  },
  "orig_nbformat": 4,
  "vscode": {
   "interpreter": {
    "hash": "a394bd4b966234b0d503efb0e32e3eef30e1cb3bb0fa082694bf7f54356d411a"
   }
  }
 },
 "nbformat": 4,
 "nbformat_minor": 2
}
