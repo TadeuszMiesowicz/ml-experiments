{
 "cells": [
  {
   "cell_type": "code",
   "execution_count": 1,
   "metadata": {},
   "outputs": [],
   "source": [
    "from preprocess_income_data import preprocess_data \n",
    "\n",
    "X_train, X_test, X_val, y_train, y_val, y_test = preprocess_data()"
   ]
  },
  {
   "cell_type": "code",
   "execution_count": null,
   "metadata": {},
   "outputs": [],
   "source": [
    "from sklearn.pipeline import Pipeline\n",
    "from sklearn.model_selection import KFold, GridSearchCV\n",
    "from xgboost import XGBClassifier\n",
    "import numpy as np\n",
    "from const import N_SPLITS, RANDOM_STATE, XGB, XGB_ID\n",
    "\n",
    "ALGORITHM_NAME = XGB\n",
    "ALGORITHM_ID = XGB_ID\n",
    "\n",
    "kf = KFold(n_splits=N_SPLITS, random_state=RANDOM_STATE, shuffle=True)\n",
    "\n",
    "learning_rate = [0.01, 0.1, 0.5, 0.9]\n",
    "\n",
    "max_depth = [2, 3, 4, 5, 7, 8, 9, 10, 15]\n",
    "\n",
    "subsample = [0.3, 0.5, 0.9]\n",
    "\n",
    "steps = [(ALGORITHM_NAME, XGBClassifier(\n",
    "    seed=RANDOM_STATE,\n",
    "    objective='binary:logistic'\n",
    "))]\n",
    "\n",
    "pipeline = Pipeline(steps)\n",
    "\n",
    "parameters = {\n",
    "    f\"{ALGORITHM_NAME}__learning_rate\": learning_rate,\n",
    "    f\"{ALGORITHM_NAME}__max_depth\": max_depth,\n",
    "    f\"{ALGORITHM_NAME}__subsample\": subsample,\n",
    "}\n",
    "cv = GridSearchCV(pipeline, param_grid=parameters,\n",
    "                  cv=kf, scoring=\"accuracy\", verbose=3)\n",
    "\n",
    "cv.fit(X_train, y_train)\n"
   ]
  },
  {
   "cell_type": "code",
   "execution_count": 3,
   "metadata": {},
   "outputs": [
    {
     "data": {
      "text/plain": [
       "0.871533475538925"
      ]
     },
     "execution_count": 3,
     "metadata": {},
     "output_type": "execute_result"
    }
   ],
   "source": [
    "cv.best_score_"
   ]
  },
  {
   "cell_type": "code",
   "execution_count": 4,
   "metadata": {},
   "outputs": [
    {
     "data": {
      "text/html": [
       "<div>\n",
       "<style scoped>\n",
       "    .dataframe tbody tr th:only-of-type {\n",
       "        vertical-align: middle;\n",
       "    }\n",
       "\n",
       "    .dataframe tbody tr th {\n",
       "        vertical-align: top;\n",
       "    }\n",
       "\n",
       "    .dataframe thead th {\n",
       "        text-align: right;\n",
       "    }\n",
       "</style>\n",
       "<table border=\"1\" class=\"dataframe\">\n",
       "  <thead>\n",
       "    <tr style=\"text-align: right;\">\n",
       "      <th></th>\n",
       "      <th>algorithm_id</th>\n",
       "      <th>accuracy_score</th>\n",
       "    </tr>\n",
       "  </thead>\n",
       "  <tbody>\n",
       "    <tr>\n",
       "      <th>0</th>\n",
       "      <td>5</td>\n",
       "      <td>0.844205</td>\n",
       "    </tr>\n",
       "    <tr>\n",
       "      <th>1</th>\n",
       "      <td>5</td>\n",
       "      <td>0.844389</td>\n",
       "    </tr>\n",
       "    <tr>\n",
       "      <th>2</th>\n",
       "      <td>5</td>\n",
       "      <td>0.844389</td>\n",
       "    </tr>\n",
       "    <tr>\n",
       "      <th>3</th>\n",
       "      <td>5</td>\n",
       "      <td>0.844942</td>\n",
       "    </tr>\n",
       "    <tr>\n",
       "      <th>4</th>\n",
       "      <td>5</td>\n",
       "      <td>0.844758</td>\n",
       "    </tr>\n",
       "  </tbody>\n",
       "</table>\n",
       "</div>"
      ],
      "text/plain": [
       "   algorithm_id  accuracy_score\n",
       "0             5        0.844205\n",
       "1             5        0.844389\n",
       "2             5        0.844389\n",
       "3             5        0.844942\n",
       "4             5        0.844758"
      ]
     },
     "execution_count": 4,
     "metadata": {},
     "output_type": "execute_result"
    }
   ],
   "source": [
    "from process_cv_results import process_cv_scores, process_best_params, get_classification_metrics, results_to_csv\n",
    "accuracy_scores_df = process_cv_scores(cv, algorithm_id=ALGORITHM_ID)\n",
    "accuracy_scores_df.head()\n"
   ]
  },
  {
   "cell_type": "code",
   "execution_count": 5,
   "metadata": {},
   "outputs": [
    {
     "data": {
      "text/html": [
       "<div>\n",
       "<style scoped>\n",
       "    .dataframe tbody tr th:only-of-type {\n",
       "        vertical-align: middle;\n",
       "    }\n",
       "\n",
       "    .dataframe tbody tr th {\n",
       "        vertical-align: top;\n",
       "    }\n",
       "\n",
       "    .dataframe thead th {\n",
       "        text-align: right;\n",
       "    }\n",
       "</style>\n",
       "<table border=\"1\" class=\"dataframe\">\n",
       "  <thead>\n",
       "    <tr style=\"text-align: right;\">\n",
       "      <th></th>\n",
       "      <th>algorithm_id</th>\n",
       "      <th>hyperparameter_name</th>\n",
       "      <th>best_value</th>\n",
       "    </tr>\n",
       "  </thead>\n",
       "  <tbody>\n",
       "    <tr>\n",
       "      <th>0</th>\n",
       "      <td>5</td>\n",
       "      <td>learning_rate</td>\n",
       "      <td>0.1</td>\n",
       "    </tr>\n",
       "    <tr>\n",
       "      <th>1</th>\n",
       "      <td>5</td>\n",
       "      <td>max_depth</td>\n",
       "      <td>8</td>\n",
       "    </tr>\n",
       "    <tr>\n",
       "      <th>2</th>\n",
       "      <td>5</td>\n",
       "      <td>subsample</td>\n",
       "      <td>0.9</td>\n",
       "    </tr>\n",
       "  </tbody>\n",
       "</table>\n",
       "</div>"
      ],
      "text/plain": [
       "   algorithm_id hyperparameter_name best_value\n",
       "0             5       learning_rate        0.1\n",
       "1             5           max_depth          8\n",
       "2             5           subsample        0.9"
      ]
     },
     "execution_count": 5,
     "metadata": {},
     "output_type": "execute_result"
    }
   ],
   "source": [
    "best_params_df = process_best_params(\n",
    "    cv, algorithm_id=ALGORITHM_ID, algorithm_name=ALGORITHM_NAME)\n",
    "best_params_df.head()\n"
   ]
  },
  {
   "cell_type": "code",
   "execution_count": 6,
   "metadata": {},
   "outputs": [
    {
     "name": "stdout",
     "output_type": "stream",
     "text": [
      "[[5874  370]\n",
      " [ 664 1232]]\n",
      "\n",
      "---\n"
     ]
    },
    {
     "data": {
      "text/html": [
       "<div>\n",
       "<style scoped>\n",
       "    .dataframe tbody tr th:only-of-type {\n",
       "        vertical-align: middle;\n",
       "    }\n",
       "\n",
       "    .dataframe tbody tr th {\n",
       "        vertical-align: top;\n",
       "    }\n",
       "\n",
       "    .dataframe thead th {\n",
       "        text-align: right;\n",
       "    }\n",
       "</style>\n",
       "<table border=\"1\" class=\"dataframe\">\n",
       "  <thead>\n",
       "    <tr style=\"text-align: right;\">\n",
       "      <th></th>\n",
       "      <th>algorithm_id</th>\n",
       "      <th>algorithm_name</th>\n",
       "      <th>best_accuracy</th>\n",
       "      <th>precision</th>\n",
       "      <th>recall</th>\n",
       "      <th>roc_auc_score</th>\n",
       "      <th>true_positives</th>\n",
       "      <th>false_positives</th>\n",
       "      <th>false_negatives</th>\n",
       "      <th>true_negatives</th>\n",
       "    </tr>\n",
       "  </thead>\n",
       "  <tbody>\n",
       "    <tr>\n",
       "      <th>0</th>\n",
       "      <td>5</td>\n",
       "      <td>xgboost</td>\n",
       "      <td>0.871533</td>\n",
       "      <td>0.769039</td>\n",
       "      <td>0.649789</td>\n",
       "      <td>0.795266</td>\n",
       "      <td>5874</td>\n",
       "      <td>370</td>\n",
       "      <td>664</td>\n",
       "      <td>1232</td>\n",
       "    </tr>\n",
       "  </tbody>\n",
       "</table>\n",
       "</div>"
      ],
      "text/plain": [
       "   algorithm_id algorithm_name  best_accuracy  precision    recall  \\\n",
       "0             5        xgboost       0.871533   0.769039  0.649789   \n",
       "\n",
       "   roc_auc_score  true_positives  false_positives  false_negatives  \\\n",
       "0       0.795266            5874              370              664   \n",
       "\n",
       "   true_negatives  \n",
       "0            1232  "
      ]
     },
     "execution_count": 6,
     "metadata": {},
     "output_type": "execute_result"
    }
   ],
   "source": [
    "y_pred = cv.predict(X_test)\n",
    "classification_metrics_df = get_classification_metrics(\n",
    "    y_test, y_pred, cv, ALGORITHM_ID, ALGORITHM_NAME)\n",
    "\n",
    "classification_metrics_df.head()\n"
   ]
  },
  {
   "cell_type": "code",
   "execution_count": 7,
   "metadata": {},
   "outputs": [],
   "source": [
    "dfs = [accuracy_scores_df, best_params_df, classification_metrics_df]\n",
    "\n",
    "results_to_csv(dfs, ALGORITHM_ID)\n"
   ]
  }
 ],
 "metadata": {
  "kernelspec": {
   "display_name": "Python 3.9 (tensorflow)",
   "language": "python",
   "name": "tensorflow"
  },
  "language_info": {
   "codemirror_mode": {
    "name": "ipython",
    "version": 3
   },
   "file_extension": ".py",
   "mimetype": "text/x-python",
   "name": "python",
   "nbconvert_exporter": "python",
   "pygments_lexer": "ipython3",
   "version": "3.9.12"
  },
  "orig_nbformat": 4,
  "vscode": {
   "interpreter": {
    "hash": "5a82d2b05c728739d3157fceb5961aa74559ad756e0935e27147c23cb7e857e6"
   }
  }
 },
 "nbformat": 4,
 "nbformat_minor": 2
}
