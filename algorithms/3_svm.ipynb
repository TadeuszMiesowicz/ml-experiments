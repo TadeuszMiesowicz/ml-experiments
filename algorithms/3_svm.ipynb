{
 "cells": [
  {
   "cell_type": "code",
   "execution_count": null,
   "metadata": {},
   "outputs": [],
   "source": [
    "from preprocess_income_data import preprocess_data\n",
    "\n",
    "X_train, X_test, X_val, y_train, y_val, y_test = preprocess_data()"
   ]
  },
  {
   "cell_type": "code",
   "execution_count": null,
   "metadata": {},
   "outputs": [],
   "source": [
    "from sklearn.pipeline import Pipeline\n",
    "from sklearn.model_selection import KFold, GridSearchCV\n",
    "from sklearn.svm import SVC\n",
    "import numpy as np\n",
    "from const import N_SPLITS, RANDOM_STATE, SVM, SVM_ID\n",
    "\n",
    "ALGORITHM_NAME = SVM\n",
    "ALGORITHM_ID = SVM_ID\n",
    "\n",
    "kf = KFold(n_splits=20, random_state=RANDOM_STATE, shuffle=True)\n",
    "C = [0.001, 0.01, 0.1, 1, 10, 100, 1000]\n",
    "\n",
    "gamma = [\"auto\", \"scale\"]\n",
    "\n",
    "steps = [(ALGORITHM_NAME, SVC(\n",
    "    random_state=RANDOM_STATE,\n",
    "    ))]\n",
    "\n",
    "\n",
    "pipeline = Pipeline(steps)\n",
    "\n",
    "parameters = {\n",
    "    f\"{ALGORITHM_NAME}__C\": C,\n",
    "    f\"{ALGORITHM_NAME}__gamma\": gamma,\n",
    "}\n",
    "\n",
    "cv = GridSearchCV(pipeline, param_grid=parameters, cv=kf, scoring=\"accuracy\")\n",
    "\n",
    "cv.fit(X_train, y_train)\n"
   ]
  },
  {
   "cell_type": "code",
   "execution_count": null,
   "metadata": {},
   "outputs": [],
   "source": [
    "cv.best_score_"
   ]
  },
  {
   "cell_type": "code",
   "execution_count": null,
   "metadata": {},
   "outputs": [],
   "source": [
    "from process_cv_results import process_cv_scores, process_best_params, get_classification_metrics, results_to_csv\n",
    "accuracy_scores_df = process_cv_scores(cv, algorithm_id=ALGORITHM_ID)\n",
    "accuracy_scores_df.head()\n"
   ]
  },
  {
   "cell_type": "code",
   "execution_count": null,
   "metadata": {},
   "outputs": [],
   "source": [
    "best_params_df = process_best_params(\n",
    "    cv, algorithm_id=ALGORITHM_ID, algorithm_name=ALGORITHM_NAME)\n",
    "best_params_df.head()\n"
   ]
  },
  {
   "cell_type": "code",
   "execution_count": null,
   "metadata": {},
   "outputs": [],
   "source": [
    "y_pred = cv.predict(X_test)\n",
    "classification_metrics_df = get_classification_metrics(\n",
    "    y_test, y_pred, cv, ALGORITHM_ID, ALGORITHM_NAME)\n",
    "\n",
    "classification_metrics_df.head()\n"
   ]
  },
  {
   "cell_type": "code",
   "execution_count": null,
   "metadata": {},
   "outputs": [],
   "source": [
    "dfs = [accuracy_scores_df, best_params_df, classification_metrics_df]\n",
    "\n",
    "results_to_csv(dfs, ALGORITHM_ID)\n"
   ]
  }
 ],
 "metadata": {
  "kernelspec": {
   "display_name": "Python 3.9 (tensorflow)",
   "language": "python",
   "name": "tensorflow"
  },
  "language_info": {
   "codemirror_mode": {
    "name": "ipython",
    "version": 3
   },
   "file_extension": ".py",
   "mimetype": "text/x-python",
   "name": "python",
   "nbconvert_exporter": "python",
   "pygments_lexer": "ipython3",
   "version": "3.9.15 | packaged by conda-forge | (main, Nov 22 2022, 08:48:25) \n[Clang 14.0.6 ]"
  },
  "orig_nbformat": 4,
  "vscode": {
   "interpreter": {
    "hash": "5a82d2b05c728739d3157fceb5961aa74559ad756e0935e27147c23cb7e857e6"
   }
  }
 },
 "nbformat": 4,
 "nbformat_minor": 2
}
